{
 "cells": [
  {
   "cell_type": "code",
   "execution_count": 1,
   "metadata": {
    "collapsed": true
   },
   "outputs": [],
   "source": [
    "import mxnet as mx\n",
    "from mxnet import gluon\n",
    "from mxnet.gluon.nn import Dense, Conv2D, Flatten, Dropout, HybridSequential, HybridBlock, MaxPool2D\n",
    "import numpy as np"
   ]
  },
  {
   "cell_type": "markdown",
   "metadata": {},
   "source": [
    "# Gluon Hybridization Demo\n",
    "Gluon is an imperative library on top of MXNet that utilizes `HybridBlock`s to allow conversion into symbolic graphs. The following is an example of a residual block implemented as a `HybridBlock`. The `F` in `hybrid_forward` will be `mxnet.ndarray` if `x` is an `ndarray`, and it will be `mxnet.symbol` if `x` is a `symbol`. Since MXNet's operations are uniform in most cases between its two APIs, the conversion works in this way."
   ]
  },
  {
   "cell_type": "code",
   "execution_count": 2,
   "metadata": {
    "collapsed": true
   },
   "outputs": [],
   "source": [
    "class ResidualBlock(HybridBlock):\n",
    "    def __init__(self, channels, activation, kernel_size, **kwargs):\n",
    "        super(ResidualBlock, self).__init__(**kwargs)\n",
    "        with self.name_scope():\n",
    "            self.c1 = Conv2D(channels=channels, activation=activation, \n",
    "                             kernel_size=kernel_size, strides=1, padding=1)\n",
    "            self.c2 = Conv2D(channels=channels, activation=activation, \n",
    "                             kernel_size=kernel_size, strides=2, padding=1)\n",
    "            self.ident_sample = Conv2D(channels=channels, kernel_size=1, strides=2)\n",
    "    \n",
    "    def hybrid_forward(self, F, x):\n",
    "        net = self.c1(x)\n",
    "        net = self.c2(x)\n",
    "        ident = self.ident_sample(x)\n",
    "        net = F.add_n(net, ident)\n",
    "        return net"
   ]
  },
  {
   "cell_type": "code",
   "execution_count": 3,
   "metadata": {
    "collapsed": true
   },
   "outputs": [],
   "source": [
    "model = HybridSequential()\n",
    "model.add(ResidualBlock(64, \"relu\", 3))\n",
    "model.add(ResidualBlock(128, \"relu\", 3))\n",
    "model.add(ResidualBlock(256, \"relu\", 3))\n",
    "model.add(Flatten())\n",
    "model.add(Dense(256, activation='relu'))\n",
    "model.add(Dropout(0.5))\n",
    "model.add(Dense(10))"
   ]
  },
  {
   "cell_type": "code",
   "execution_count": 4,
   "metadata": {
    "collapsed": true
   },
   "outputs": [],
   "source": [
    "softmax_cross_entropy = gluon.loss.SoftmaxCrossEntropyLoss()"
   ]
  },
  {
   "cell_type": "code",
   "execution_count": 5,
   "metadata": {
    "collapsed": true
   },
   "outputs": [],
   "source": [
    "ctx = mx.cpu()\n",
    "model.collect_params().initialize(mx.init.Xavier(magnitude=2.24), ctx=ctx)"
   ]
  },
  {
   "cell_type": "markdown",
   "metadata": {},
   "source": [
    "Since our model is imperative, we can manipulate it in line. For example:"
   ]
  },
  {
   "cell_type": "code",
   "execution_count": 6,
   "metadata": {},
   "outputs": [
    {
     "data": {
      "text/plain": [
       "\n",
       "[ 0.08445986  0.31063828  0.31540376  0.12313877  0.03978972 -0.42295477\n",
       " -0.2999962  -0.09516738 -0.37661234  0.84004992]\n",
       "<NDArray 10 @cpu(0)>"
      ]
     },
     "execution_count": 6,
     "metadata": {},
     "output_type": "execute_result"
    }
   ],
   "source": [
    "model(mx.nd.ones((100,32,32,3)))[0]"
   ]
  },
  {
   "cell_type": "markdown",
   "metadata": {},
   "source": [
    "Now we can call `hybridize` to automatically construct a symbolic graph. Then we can only run with a `symbol`, and we get a `symbol` in return."
   ]
  },
  {
   "cell_type": "code",
   "execution_count": 7,
   "metadata": {
    "collapsed": true
   },
   "outputs": [],
   "source": [
    "model.hybridize()"
   ]
  },
  {
   "cell_type": "code",
   "execution_count": 8,
   "metadata": {},
   "outputs": [
    {
     "data": {
      "text/plain": [
       "<Symbol dense1_fwd>"
      ]
     },
     "execution_count": 8,
     "metadata": {},
     "output_type": "execute_result"
    }
   ],
   "source": [
    "model(mx.sym.ones((100,3,32,32)))[0]"
   ]
  },
  {
   "cell_type": "markdown",
   "metadata": {},
   "source": [
    "We can even declare an MXNet variable and run it through our net to get the native MXNet `symbol` out of Gluon:"
   ]
  },
  {
   "cell_type": "code",
   "execution_count": 9,
   "metadata": {
    "collapsed": true
   },
   "outputs": [],
   "source": [
    "data = mx.sym.Variable('data')\n",
    "sym = model(data)"
   ]
  },
  {
   "cell_type": "code",
   "execution_count": 10,
   "metadata": {},
   "outputs": [
    {
     "data": {
      "image/svg+xml": [
       "<?xml version=\"1.0\" encoding=\"UTF-8\" standalone=\"no\"?>\n",
       "<!DOCTYPE svg PUBLIC \"-//W3C//DTD SVG 1.1//EN\"\n",
       " \"http://www.w3.org/Graphics/SVG/1.1/DTD/svg11.dtd\">\n",
       "<!-- Generated by graphviz version 2.38.0 (20140413.2041)\n",
       " -->\n",
       "<!-- Title: plot Pages: 1 -->\n",
       "<svg width=\"234pt\" height=\"1382pt\"\n",
       " viewBox=\"0.00 0.00 234.00 1382.00\" xmlns=\"http://www.w3.org/2000/svg\" xmlns:xlink=\"http://www.w3.org/1999/xlink\">\n",
       "<g id=\"graph0\" class=\"graph\" transform=\"scale(1 1) rotate(0) translate(4 1378)\">\n",
       "<title>plot</title>\n",
       "<polygon fill=\"white\" stroke=\"none\" points=\"-4,4 -4,-1378 230,-1378 230,4 -4,4\"/>\n",
       "<!-- data -->\n",
       "<g id=\"node1\" class=\"node\"><title>data</title>\n",
       "<ellipse fill=\"#8dd3c7\" stroke=\"black\" cx=\"123\" cy=\"-29\" rx=\"47\" ry=\"29\"/>\n",
       "<text text-anchor=\"middle\" x=\"123\" y=\"-25.3\" font-family=\"Times,serif\" font-size=\"14.00\">data</text>\n",
       "</g>\n",
       "<!-- residualblock0_conv1_fwd -->\n",
       "<g id=\"node2\" class=\"node\"><title>residualblock0_conv1_fwd</title>\n",
       "<polygon fill=\"#fb8072\" stroke=\"black\" points=\"114,-152 20,-152 20,-94 114,-94 114,-152\"/>\n",
       "<text text-anchor=\"middle\" x=\"67\" y=\"-126.8\" font-family=\"Times,serif\" font-size=\"14.00\">Convolution</text>\n",
       "<text text-anchor=\"middle\" x=\"67\" y=\"-111.8\" font-family=\"Times,serif\" font-size=\"14.00\">3x3/2x2, 64</text>\n",
       "</g>\n",
       "<!-- residualblock0_conv1_fwd&#45;&gt;data -->\n",
       "<g id=\"edge1\" class=\"edge\"><title>residualblock0_conv1_fwd&#45;&gt;data</title>\n",
       "<path fill=\"none\" stroke=\"black\" d=\"M89.3772,-85.2374C95.2567,-75.5783 101.481,-65.3525 106.955,-56.3597\"/>\n",
       "<polygon fill=\"black\" stroke=\"black\" points=\"84.1061,-93.8971 85.4617,-83.0153 86.7059,-89.6261 89.3056,-85.3551 89.3056,-85.3551 89.3056,-85.3551 86.7059,-89.6261 93.1495,-87.6949 84.1061,-93.8971 84.1061,-93.8971\"/>\n",
       "</g>\n",
       "<!-- residualblock0_conv1_relu_fwd -->\n",
       "<g id=\"node3\" class=\"node\"><title>residualblock0_conv1_relu_fwd</title>\n",
       "<polygon fill=\"#ffffb3\" stroke=\"black\" points=\"123,-246 29,-246 29,-188 123,-188 123,-246\"/>\n",
       "<text text-anchor=\"middle\" x=\"76\" y=\"-220.8\" font-family=\"Times,serif\" font-size=\"14.00\">Activation</text>\n",
       "<text text-anchor=\"middle\" x=\"76\" y=\"-205.8\" font-family=\"Times,serif\" font-size=\"14.00\">relu</text>\n",
       "</g>\n",
       "<!-- residualblock0_conv1_relu_fwd&#45;&gt;residualblock0_conv1_fwd -->\n",
       "<g id=\"edge2\" class=\"edge\"><title>residualblock0_conv1_relu_fwd&#45;&gt;residualblock0_conv1_fwd</title>\n",
       "<path fill=\"none\" stroke=\"black\" d=\"M72.2576,-177.744C71.4222,-169.204 70.5509,-160.298 69.7634,-152.248\"/>\n",
       "<polygon fill=\"black\" stroke=\"black\" points=\"73.2508,-187.897 67.7985,-178.383 72.7639,-182.921 72.2771,-177.945 72.2771,-177.945 72.2771,-177.945 72.7639,-182.921 76.7557,-177.506 73.2508,-187.897 73.2508,-187.897\"/>\n",
       "</g>\n",
       "<!-- residualblock0_conv2_fwd -->\n",
       "<g id=\"node4\" class=\"node\"><title>residualblock0_conv2_fwd</title>\n",
       "<polygon fill=\"#fb8072\" stroke=\"black\" points=\"226,-152 132,-152 132,-94 226,-94 226,-152\"/>\n",
       "<text text-anchor=\"middle\" x=\"179\" y=\"-126.8\" font-family=\"Times,serif\" font-size=\"14.00\">Convolution</text>\n",
       "<text text-anchor=\"middle\" x=\"179\" y=\"-111.8\" font-family=\"Times,serif\" font-size=\"14.00\">1x1/2x2, 64</text>\n",
       "</g>\n",
       "<!-- residualblock0_conv2_fwd&#45;&gt;data -->\n",
       "<g id=\"edge3\" class=\"edge\"><title>residualblock0_conv2_fwd&#45;&gt;data</title>\n",
       "<path fill=\"none\" stroke=\"black\" d=\"M156.623,-85.2374C150.743,-75.5783 144.519,-65.3525 139.045,-56.3597\"/>\n",
       "<polygon fill=\"black\" stroke=\"black\" points=\"161.894,-93.8971 152.85,-87.6949 159.294,-89.6261 156.694,-85.3551 156.694,-85.3551 156.694,-85.3551 159.294,-89.6261 160.538,-83.0153 161.894,-93.8971 161.894,-93.8971\"/>\n",
       "</g>\n",
       "<!-- residualblock0_add_n0 -->\n",
       "<g id=\"node5\" class=\"node\"><title>residualblock0_add_n0</title>\n",
       "<polygon fill=\"#fccde5\" stroke=\"black\" points=\"160,-340 66,-340 66,-282 160,-282 160,-340\"/>\n",
       "<text text-anchor=\"middle\" x=\"113\" y=\"-307.3\" font-family=\"Times,serif\" font-size=\"14.00\">residualblock0_add_n0</text>\n",
       "</g>\n",
       "<!-- residualblock0_add_n0&#45;&gt;residualblock0_conv1_relu_fwd -->\n",
       "<g id=\"edge4\" class=\"edge\"><title>residualblock0_add_n0&#45;&gt;residualblock0_conv1_relu_fwd</title>\n",
       "<path fill=\"none\" stroke=\"black\" d=\"M97.9537,-272.588C94.4166,-263.793 90.7047,-254.563 87.3605,-246.248\"/>\n",
       "<polygon fill=\"black\" stroke=\"black\" points=\"101.698,-281.897 93.7914,-274.298 99.8321,-277.258 97.9664,-272.619 97.9664,-272.619 97.9664,-272.619 99.8321,-277.258 102.141,-270.94 101.698,-281.897 101.698,-281.897\"/>\n",
       "</g>\n",
       "<!-- residualblock0_add_n0&#45;&gt;residualblock0_conv2_fwd -->\n",
       "<g id=\"edge5\" class=\"edge\"><title>residualblock0_add_n0&#45;&gt;residualblock0_conv2_fwd</title>\n",
       "<path fill=\"none\" stroke=\"black\" d=\"M126.412,-272.202C139.026,-236.654 157.624,-184.241 168.99,-152.21\"/>\n",
       "<polygon fill=\"black\" stroke=\"black\" points=\"123.024,-281.751 122.127,-270.821 124.696,-277.038 126.368,-272.326 126.368,-272.326 126.368,-272.326 124.696,-277.038 130.609,-273.831 123.024,-281.751 123.024,-281.751\"/>\n",
       "</g>\n",
       "<!-- residualblock1_conv1_fwd -->\n",
       "<g id=\"node6\" class=\"node\"><title>residualblock1_conv1_fwd</title>\n",
       "<polygon fill=\"#fb8072\" stroke=\"black\" points=\"104,-434 10,-434 10,-376 104,-376 104,-434\"/>\n",
       "<text text-anchor=\"middle\" x=\"57\" y=\"-408.8\" font-family=\"Times,serif\" font-size=\"14.00\">Convolution</text>\n",
       "<text text-anchor=\"middle\" x=\"57\" y=\"-393.8\" font-family=\"Times,serif\" font-size=\"14.00\">3x3/2x2, 128</text>\n",
       "</g>\n",
       "<!-- residualblock1_conv1_fwd&#45;&gt;residualblock0_add_n0 -->\n",
       "<g id=\"edge6\" class=\"edge\"><title>residualblock1_conv1_fwd&#45;&gt;residualblock0_add_n0</title>\n",
       "<path fill=\"none\" stroke=\"black\" d=\"M79.4314,-367.148C84.887,-358.186 90.6365,-348.74 95.8057,-340.248\"/>\n",
       "<polygon fill=\"black\" stroke=\"black\" points=\"74.1061,-375.897 75.4617,-365.015 76.7059,-371.626 79.3056,-367.355 79.3056,-367.355 79.3056,-367.355 76.7059,-371.626 83.1495,-369.695 74.1061,-375.897 74.1061,-375.897\"/>\n",
       "</g>\n",
       "<!-- residualblock1_conv1_relu_fwd -->\n",
       "<g id=\"node7\" class=\"node\"><title>residualblock1_conv1_relu_fwd</title>\n",
       "<polygon fill=\"#ffffb3\" stroke=\"black\" points=\"113,-528 19,-528 19,-470 113,-470 113,-528\"/>\n",
       "<text text-anchor=\"middle\" x=\"66\" y=\"-502.8\" font-family=\"Times,serif\" font-size=\"14.00\">Activation</text>\n",
       "<text text-anchor=\"middle\" x=\"66\" y=\"-487.8\" font-family=\"Times,serif\" font-size=\"14.00\">relu</text>\n",
       "</g>\n",
       "<!-- residualblock1_conv1_relu_fwd&#45;&gt;residualblock1_conv1_fwd -->\n",
       "<g id=\"edge7\" class=\"edge\"><title>residualblock1_conv1_relu_fwd&#45;&gt;residualblock1_conv1_fwd</title>\n",
       "<path fill=\"none\" stroke=\"black\" d=\"M62.2576,-459.744C61.4222,-451.204 60.5509,-442.298 59.7634,-434.248\"/>\n",
       "<polygon fill=\"black\" stroke=\"black\" points=\"63.2508,-469.897 57.7985,-460.383 62.7639,-464.921 62.2771,-459.945 62.2771,-459.945 62.2771,-459.945 62.7639,-464.921 66.7557,-459.506 63.2508,-469.897 63.2508,-469.897\"/>\n",
       "</g>\n",
       "<!-- residualblock1_conv2_fwd -->\n",
       "<g id=\"node8\" class=\"node\"><title>residualblock1_conv2_fwd</title>\n",
       "<polygon fill=\"#fb8072\" stroke=\"black\" points=\"216,-434 122,-434 122,-376 216,-376 216,-434\"/>\n",
       "<text text-anchor=\"middle\" x=\"169\" y=\"-408.8\" font-family=\"Times,serif\" font-size=\"14.00\">Convolution</text>\n",
       "<text text-anchor=\"middle\" x=\"169\" y=\"-393.8\" font-family=\"Times,serif\" font-size=\"14.00\">1x1/2x2, 128</text>\n",
       "</g>\n",
       "<!-- residualblock1_conv2_fwd&#45;&gt;residualblock0_add_n0 -->\n",
       "<g id=\"edge8\" class=\"edge\"><title>residualblock1_conv2_fwd&#45;&gt;residualblock0_add_n0</title>\n",
       "<path fill=\"none\" stroke=\"black\" d=\"M146.569,-367.148C141.113,-358.186 135.363,-348.74 130.194,-340.248\"/>\n",
       "<polygon fill=\"black\" stroke=\"black\" points=\"151.894,-375.897 142.85,-369.695 149.294,-371.626 146.694,-367.355 146.694,-367.355 146.694,-367.355 149.294,-371.626 150.538,-365.015 151.894,-375.897 151.894,-375.897\"/>\n",
       "</g>\n",
       "<!-- residualblock1_add_n0 -->\n",
       "<g id=\"node9\" class=\"node\"><title>residualblock1_add_n0</title>\n",
       "<polygon fill=\"#fccde5\" stroke=\"black\" points=\"150,-622 56,-622 56,-564 150,-564 150,-622\"/>\n",
       "<text text-anchor=\"middle\" x=\"103\" y=\"-589.3\" font-family=\"Times,serif\" font-size=\"14.00\">residualblock1_add_n0</text>\n",
       "</g>\n",
       "<!-- residualblock1_add_n0&#45;&gt;residualblock1_conv1_relu_fwd -->\n",
       "<g id=\"edge9\" class=\"edge\"><title>residualblock1_add_n0&#45;&gt;residualblock1_conv1_relu_fwd</title>\n",
       "<path fill=\"none\" stroke=\"black\" d=\"M87.9537,-554.588C84.4166,-545.793 80.7047,-536.563 77.3605,-528.248\"/>\n",
       "<polygon fill=\"black\" stroke=\"black\" points=\"91.6977,-563.897 83.7914,-556.298 89.8321,-559.258 87.9664,-554.619 87.9664,-554.619 87.9664,-554.619 89.8321,-559.258 92.1414,-552.94 91.6977,-563.897 91.6977,-563.897\"/>\n",
       "</g>\n",
       "<!-- residualblock1_add_n0&#45;&gt;residualblock1_conv2_fwd -->\n",
       "<g id=\"edge10\" class=\"edge\"><title>residualblock1_add_n0&#45;&gt;residualblock1_conv2_fwd</title>\n",
       "<path fill=\"none\" stroke=\"black\" d=\"M116.412,-554.202C129.026,-518.654 147.624,-466.241 158.99,-434.21\"/>\n",
       "<polygon fill=\"black\" stroke=\"black\" points=\"113.024,-563.751 112.127,-552.821 114.696,-559.038 116.368,-554.326 116.368,-554.326 116.368,-554.326 114.696,-559.038 120.609,-555.831 113.024,-563.751 113.024,-563.751\"/>\n",
       "</g>\n",
       "<!-- residualblock2_conv1_fwd -->\n",
       "<g id=\"node10\" class=\"node\"><title>residualblock2_conv1_fwd</title>\n",
       "<polygon fill=\"#fb8072\" stroke=\"black\" points=\"94,-716 -7.10543e-15,-716 -7.10543e-15,-658 94,-658 94,-716\"/>\n",
       "<text text-anchor=\"middle\" x=\"47\" y=\"-690.8\" font-family=\"Times,serif\" font-size=\"14.00\">Convolution</text>\n",
       "<text text-anchor=\"middle\" x=\"47\" y=\"-675.8\" font-family=\"Times,serif\" font-size=\"14.00\">3x3/2x2, 256</text>\n",
       "</g>\n",
       "<!-- residualblock2_conv1_fwd&#45;&gt;residualblock1_add_n0 -->\n",
       "<g id=\"edge11\" class=\"edge\"><title>residualblock2_conv1_fwd&#45;&gt;residualblock1_add_n0</title>\n",
       "<path fill=\"none\" stroke=\"black\" d=\"M69.4314,-649.148C74.887,-640.186 80.6365,-630.74 85.8057,-622.248\"/>\n",
       "<polygon fill=\"black\" stroke=\"black\" points=\"64.1061,-657.897 65.4617,-647.015 66.7059,-653.626 69.3056,-649.355 69.3056,-649.355 69.3056,-649.355 66.7059,-653.626 73.1495,-651.695 64.1061,-657.897 64.1061,-657.897\"/>\n",
       "</g>\n",
       "<!-- residualblock2_conv1_relu_fwd -->\n",
       "<g id=\"node11\" class=\"node\"><title>residualblock2_conv1_relu_fwd</title>\n",
       "<polygon fill=\"#ffffb3\" stroke=\"black\" points=\"103,-810 9,-810 9,-752 103,-752 103,-810\"/>\n",
       "<text text-anchor=\"middle\" x=\"56\" y=\"-784.8\" font-family=\"Times,serif\" font-size=\"14.00\">Activation</text>\n",
       "<text text-anchor=\"middle\" x=\"56\" y=\"-769.8\" font-family=\"Times,serif\" font-size=\"14.00\">relu</text>\n",
       "</g>\n",
       "<!-- residualblock2_conv1_relu_fwd&#45;&gt;residualblock2_conv1_fwd -->\n",
       "<g id=\"edge12\" class=\"edge\"><title>residualblock2_conv1_relu_fwd&#45;&gt;residualblock2_conv1_fwd</title>\n",
       "<path fill=\"none\" stroke=\"black\" d=\"M52.2576,-741.744C51.4222,-733.204 50.5509,-724.298 49.7634,-716.248\"/>\n",
       "<polygon fill=\"black\" stroke=\"black\" points=\"53.2508,-751.897 47.7985,-742.383 52.7639,-746.921 52.2771,-741.945 52.2771,-741.945 52.2771,-741.945 52.7639,-746.921 56.7557,-741.506 53.2508,-751.897 53.2508,-751.897\"/>\n",
       "</g>\n",
       "<!-- residualblock2_conv2_fwd -->\n",
       "<g id=\"node12\" class=\"node\"><title>residualblock2_conv2_fwd</title>\n",
       "<polygon fill=\"#fb8072\" stroke=\"black\" points=\"206,-716 112,-716 112,-658 206,-658 206,-716\"/>\n",
       "<text text-anchor=\"middle\" x=\"159\" y=\"-690.8\" font-family=\"Times,serif\" font-size=\"14.00\">Convolution</text>\n",
       "<text text-anchor=\"middle\" x=\"159\" y=\"-675.8\" font-family=\"Times,serif\" font-size=\"14.00\">1x1/2x2, 256</text>\n",
       "</g>\n",
       "<!-- residualblock2_conv2_fwd&#45;&gt;residualblock1_add_n0 -->\n",
       "<g id=\"edge13\" class=\"edge\"><title>residualblock2_conv2_fwd&#45;&gt;residualblock1_add_n0</title>\n",
       "<path fill=\"none\" stroke=\"black\" d=\"M136.569,-649.148C131.113,-640.186 125.363,-630.74 120.194,-622.248\"/>\n",
       "<polygon fill=\"black\" stroke=\"black\" points=\"141.894,-657.897 132.85,-651.695 139.294,-653.626 136.694,-649.355 136.694,-649.355 136.694,-649.355 139.294,-653.626 140.538,-647.015 141.894,-657.897 141.894,-657.897\"/>\n",
       "</g>\n",
       "<!-- residualblock2_add_n0 -->\n",
       "<g id=\"node13\" class=\"node\"><title>residualblock2_add_n0</title>\n",
       "<polygon fill=\"#fccde5\" stroke=\"black\" points=\"140,-904 46,-904 46,-846 140,-846 140,-904\"/>\n",
       "<text text-anchor=\"middle\" x=\"93\" y=\"-871.3\" font-family=\"Times,serif\" font-size=\"14.00\">residualblock2_add_n0</text>\n",
       "</g>\n",
       "<!-- residualblock2_add_n0&#45;&gt;residualblock2_conv1_relu_fwd -->\n",
       "<g id=\"edge14\" class=\"edge\"><title>residualblock2_add_n0&#45;&gt;residualblock2_conv1_relu_fwd</title>\n",
       "<path fill=\"none\" stroke=\"black\" d=\"M77.9537,-836.588C74.4166,-827.793 70.7047,-818.563 67.3605,-810.248\"/>\n",
       "<polygon fill=\"black\" stroke=\"black\" points=\"81.6977,-845.897 73.7914,-838.298 79.8321,-841.258 77.9664,-836.619 77.9664,-836.619 77.9664,-836.619 79.8321,-841.258 82.1414,-834.94 81.6977,-845.897 81.6977,-845.897\"/>\n",
       "</g>\n",
       "<!-- residualblock2_add_n0&#45;&gt;residualblock2_conv2_fwd -->\n",
       "<g id=\"edge15\" class=\"edge\"><title>residualblock2_add_n0&#45;&gt;residualblock2_conv2_fwd</title>\n",
       "<path fill=\"none\" stroke=\"black\" d=\"M106.412,-836.202C119.026,-800.654 137.624,-748.241 148.99,-716.21\"/>\n",
       "<polygon fill=\"black\" stroke=\"black\" points=\"103.024,-845.751 102.127,-834.821 104.696,-841.038 106.368,-836.326 106.368,-836.326 106.368,-836.326 104.696,-841.038 110.609,-837.831 103.024,-845.751 103.024,-845.751\"/>\n",
       "</g>\n",
       "<!-- flatten0_reshape0 -->\n",
       "<g id=\"node14\" class=\"node\"><title>flatten0_reshape0</title>\n",
       "<polygon fill=\"#fdb462\" stroke=\"black\" points=\"140,-998 46,-998 46,-940 140,-940 140,-998\"/>\n",
       "<text text-anchor=\"middle\" x=\"93\" y=\"-965.3\" font-family=\"Times,serif\" font-size=\"14.00\">flatten0_reshape0</text>\n",
       "</g>\n",
       "<!-- flatten0_reshape0&#45;&gt;residualblock2_add_n0 -->\n",
       "<g id=\"edge16\" class=\"edge\"><title>flatten0_reshape0&#45;&gt;residualblock2_add_n0</title>\n",
       "<path fill=\"none\" stroke=\"black\" d=\"M93,-929.744C93,-921.204 93,-912.298 93,-904.248\"/>\n",
       "<polygon fill=\"black\" stroke=\"black\" points=\"93,-939.897 88.5001,-929.897 93,-934.897 93.0001,-929.897 93.0001,-929.897 93.0001,-929.897 93,-934.897 97.5001,-929.897 93,-939.897 93,-939.897\"/>\n",
       "</g>\n",
       "<!-- dense0_fwd -->\n",
       "<g id=\"node15\" class=\"node\"><title>dense0_fwd</title>\n",
       "<polygon fill=\"#fb8072\" stroke=\"black\" points=\"140,-1092 46,-1092 46,-1034 140,-1034 140,-1092\"/>\n",
       "<text text-anchor=\"middle\" x=\"93\" y=\"-1066.8\" font-family=\"Times,serif\" font-size=\"14.00\">FullyConnected</text>\n",
       "<text text-anchor=\"middle\" x=\"93\" y=\"-1051.8\" font-family=\"Times,serif\" font-size=\"14.00\">256</text>\n",
       "</g>\n",
       "<!-- dense0_fwd&#45;&gt;flatten0_reshape0 -->\n",
       "<g id=\"edge17\" class=\"edge\"><title>dense0_fwd&#45;&gt;flatten0_reshape0</title>\n",
       "<path fill=\"none\" stroke=\"black\" d=\"M93,-1023.74C93,-1015.2 93,-1006.3 93,-998.248\"/>\n",
       "<polygon fill=\"black\" stroke=\"black\" points=\"93,-1033.9 88.5001,-1023.9 93,-1028.9 93.0001,-1023.9 93.0001,-1023.9 93.0001,-1023.9 93,-1028.9 97.5001,-1023.9 93,-1033.9 93,-1033.9\"/>\n",
       "</g>\n",
       "<!-- dense0_relu_fwd -->\n",
       "<g id=\"node16\" class=\"node\"><title>dense0_relu_fwd</title>\n",
       "<polygon fill=\"#ffffb3\" stroke=\"black\" points=\"140,-1186 46,-1186 46,-1128 140,-1128 140,-1186\"/>\n",
       "<text text-anchor=\"middle\" x=\"93\" y=\"-1160.8\" font-family=\"Times,serif\" font-size=\"14.00\">Activation</text>\n",
       "<text text-anchor=\"middle\" x=\"93\" y=\"-1145.8\" font-family=\"Times,serif\" font-size=\"14.00\">relu</text>\n",
       "</g>\n",
       "<!-- dense0_relu_fwd&#45;&gt;dense0_fwd -->\n",
       "<g id=\"edge18\" class=\"edge\"><title>dense0_relu_fwd&#45;&gt;dense0_fwd</title>\n",
       "<path fill=\"none\" stroke=\"black\" d=\"M93,-1117.74C93,-1109.2 93,-1100.3 93,-1092.25\"/>\n",
       "<polygon fill=\"black\" stroke=\"black\" points=\"93,-1127.9 88.5001,-1117.9 93,-1122.9 93.0001,-1117.9 93.0001,-1117.9 93.0001,-1117.9 93,-1122.9 97.5001,-1117.9 93,-1127.9 93,-1127.9\"/>\n",
       "</g>\n",
       "<!-- dropout0_fwd -->\n",
       "<g id=\"node17\" class=\"node\"><title>dropout0_fwd</title>\n",
       "<polygon fill=\"#fccde5\" stroke=\"black\" points=\"140,-1280 46,-1280 46,-1222 140,-1222 140,-1280\"/>\n",
       "<text text-anchor=\"middle\" x=\"93\" y=\"-1247.3\" font-family=\"Times,serif\" font-size=\"14.00\">dropout0_fwd</text>\n",
       "</g>\n",
       "<!-- dropout0_fwd&#45;&gt;dense0_relu_fwd -->\n",
       "<g id=\"edge19\" class=\"edge\"><title>dropout0_fwd&#45;&gt;dense0_relu_fwd</title>\n",
       "<path fill=\"none\" stroke=\"black\" d=\"M93,-1211.74C93,-1203.2 93,-1194.3 93,-1186.25\"/>\n",
       "<polygon fill=\"black\" stroke=\"black\" points=\"93,-1221.9 88.5001,-1211.9 93,-1216.9 93.0001,-1211.9 93.0001,-1211.9 93.0001,-1211.9 93,-1216.9 97.5001,-1211.9 93,-1221.9 93,-1221.9\"/>\n",
       "</g>\n",
       "<!-- dense1_fwd -->\n",
       "<g id=\"node18\" class=\"node\"><title>dense1_fwd</title>\n",
       "<polygon fill=\"#fb8072\" stroke=\"black\" points=\"140,-1374 46,-1374 46,-1316 140,-1316 140,-1374\"/>\n",
       "<text text-anchor=\"middle\" x=\"93\" y=\"-1348.8\" font-family=\"Times,serif\" font-size=\"14.00\">FullyConnected</text>\n",
       "<text text-anchor=\"middle\" x=\"93\" y=\"-1333.8\" font-family=\"Times,serif\" font-size=\"14.00\">10</text>\n",
       "</g>\n",
       "<!-- dense1_fwd&#45;&gt;dropout0_fwd -->\n",
       "<g id=\"edge20\" class=\"edge\"><title>dense1_fwd&#45;&gt;dropout0_fwd</title>\n",
       "<path fill=\"none\" stroke=\"black\" d=\"M93,-1305.74C93,-1297.2 93,-1288.3 93,-1280.25\"/>\n",
       "<polygon fill=\"black\" stroke=\"black\" points=\"93,-1315.9 88.5001,-1305.9 93,-1310.9 93.0001,-1305.9 93.0001,-1305.9 93.0001,-1305.9 93,-1310.9 97.5001,-1305.9 93,-1315.9 93,-1315.9\"/>\n",
       "</g>\n",
       "</g>\n",
       "</svg>\n"
      ],
      "text/plain": [
       "<graphviz.dot.Digraph at 0x7eff87ec6fd0>"
      ]
     },
     "execution_count": 10,
     "metadata": {},
     "output_type": "execute_result"
    }
   ],
   "source": [
    "mx.viz.plot_network(sym)"
   ]
  },
  {
   "cell_type": "code",
   "execution_count": null,
   "metadata": {
    "collapsed": true
   },
   "outputs": [],
   "source": []
  }
 ],
 "metadata": {
  "kernelspec": {
   "display_name": "Python 3",
   "language": "python",
   "name": "python3"
  },
  "language_info": {
   "codemirror_mode": {
    "name": "ipython",
    "version": 3
   },
   "file_extension": ".py",
   "mimetype": "text/x-python",
   "name": "python",
   "nbconvert_exporter": "python",
   "pygments_lexer": "ipython3",
   "version": "3.5.2"
  }
 },
 "nbformat": 4,
 "nbformat_minor": 2
}
