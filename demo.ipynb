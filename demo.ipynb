{
 "cells": [
  {
   "cell_type": "code",
   "execution_count": 1,
   "metadata": {
    "collapsed": true
   },
   "outputs": [],
   "source": [
    "import mxnet as mx\n",
    "from mxnet import gluon\n",
    "from mxnet.gluon.nn import Dense, Conv2D, Flatten, Dropout, HybridSequential, HybridBlock, MaxPool2D\n",
    "import numpy as np"
   ]
  },
  {
   "cell_type": "markdown",
   "metadata": {},
   "source": [
    "# Gluon Hybridization Demo\n",
    "Gluon is an imperative library on top of MXNet that utilizes `HybridBlock`s to allow conversion into symbolic graphs. The following is an example of a residual block implemented as a `HybridBlock`. The `F` in `hybrid_forward` will be `mxnet.ndarray` if `x` is an `ndarray`, and it will be `mxnet.symbol` if `x` is a `symbol`. Since MXNet's operations are uniform in most cases between its two APIs, the conversion works in this way."
   ]
  },
  {
   "cell_type": "code",
   "execution_count": 2,
   "metadata": {
    "collapsed": true
   },
   "outputs": [],
   "source": [
    "class ResidualBlock(HybridBlock):\n",
    "    def __init__(self, channels, activation, kernel_size, **kwargs):\n",
    "        super(ResidualBlock, self).__init__(**kwargs)\n",
    "        with self.name_scope():\n",
    "            self.c1 = Conv2D(channels=channels, activation=activation, \n",
    "                             kernel_size=kernel_size, strides=1, padding=1)\n",
    "            self.c2 = Conv2D(channels=channels, activation=activation, \n",
    "                             kernel_size=kernel_size, strides=2, padding=1)\n",
    "            self.ident_sample = Conv2D(channels=channels, kernel_size=1, strides=2)\n",
    "    \n",
    "    def hybrid_forward(self, F, x):\n",
    "        net = self.c1(x)\n",
    "        net = self.c2(net)\n",
    "        ident = self.ident_sample(x)\n",
    "        net = F.add_n(net, ident)\n",
    "        return net"
   ]
  },
  {
   "cell_type": "code",
   "execution_count": 3,
   "metadata": {
    "collapsed": true
   },
   "outputs": [],
   "source": [
    "model = HybridSequential()\n",
    "model.add(ResidualBlock(64, \"relu\", 3))\n",
    "model.add(ResidualBlock(128, \"relu\", 3))\n",
    "model.add(ResidualBlock(256, \"relu\", 3))\n",
    "model.add(Flatten())\n",
    "model.add(Dense(256, activation='relu'))\n",
    "model.add(Dropout(0.5))\n",
    "model.add(Dense(10))"
   ]
  },
  {
   "cell_type": "code",
   "execution_count": 4,
   "metadata": {
    "collapsed": true
   },
   "outputs": [],
   "source": [
    "softmax_cross_entropy = gluon.loss.SoftmaxCrossEntropyLoss()"
   ]
  },
  {
   "cell_type": "code",
   "execution_count": 5,
   "metadata": {
    "collapsed": true
   },
   "outputs": [],
   "source": [
    "ctx = mx.cpu()\n",
    "model.collect_params().initialize(mx.init.Xavier(magnitude=2.24), ctx=ctx)"
   ]
  },
  {
   "cell_type": "markdown",
   "metadata": {},
   "source": [
    "Since our model is imperative, we can manipulate it in line. For example:"
   ]
  },
  {
   "cell_type": "code",
   "execution_count": 6,
   "metadata": {},
   "outputs": [
    {
     "data": {
      "text/plain": [
       "\n",
       "[ 0.21128324 -0.38900724 -0.4446955  -0.12091288  1.06250465  0.13343033\n",
       "  0.24158487 -0.19841106  0.4619942  -0.05019611]\n",
       "<NDArray 10 @cpu(0)>"
      ]
     },
     "execution_count": 6,
     "metadata": {},
     "output_type": "execute_result"
    }
   ],
   "source": [
    "model(mx.nd.ones((100,32,32,3)))[0]"
   ]
  },
  {
   "cell_type": "markdown",
   "metadata": {},
   "source": [
    "Now we can call `hybridize` to automatically construct a symbolic graph. Then we can only run with a `symbol`, and we get a `symbol` in return."
   ]
  },
  {
   "cell_type": "code",
   "execution_count": 7,
   "metadata": {
    "collapsed": true
   },
   "outputs": [],
   "source": [
    "model.hybridize()"
   ]
  },
  {
   "cell_type": "code",
   "execution_count": 8,
   "metadata": {},
   "outputs": [
    {
     "data": {
      "text/plain": [
       "<Symbol dense1_fwd>"
      ]
     },
     "execution_count": 8,
     "metadata": {},
     "output_type": "execute_result"
    }
   ],
   "source": [
    "model(mx.sym.ones((100,3,32,32)))[0]"
   ]
  },
  {
   "cell_type": "markdown",
   "metadata": {},
   "source": [
    "We can even declare an MXNet variable and run it through our net to get the native MXNet `symbol` out of Gluon:"
   ]
  },
  {
   "cell_type": "code",
   "execution_count": 9,
   "metadata": {
    "collapsed": true
   },
   "outputs": [],
   "source": [
    "data = mx.sym.Variable('data')\n",
    "sym = model(data)"
   ]
  },
  {
   "cell_type": "code",
   "execution_count": 10,
   "metadata": {},
   "outputs": [
    {
     "data": {
      "image/svg+xml": [
       "<?xml version=\"1.0\" encoding=\"UTF-8\" standalone=\"no\"?>\n",
       "<!DOCTYPE svg PUBLIC \"-//W3C//DTD SVG 1.1//EN\"\n",
       " \"http://www.w3.org/Graphics/SVG/1.1/DTD/svg11.dtd\">\n",
       "<!-- Generated by graphviz version 2.38.0 (20140413.2041)\n",
       " -->\n",
       "<!-- Title: plot Pages: 1 -->\n",
       "<svg width=\"252pt\" height=\"1946pt\"\n",
       " viewBox=\"0.00 0.00 252.00 1946.00\" xmlns=\"http://www.w3.org/2000/svg\" xmlns:xlink=\"http://www.w3.org/1999/xlink\">\n",
       "<g id=\"graph0\" class=\"graph\" transform=\"scale(1 1) rotate(0) translate(4 1942)\">\n",
       "<title>plot</title>\n",
       "<polygon fill=\"white\" stroke=\"none\" points=\"-4,4 -4,-1942 248,-1942 248,4 -4,4\"/>\n",
       "<!-- data -->\n",
       "<g id=\"node1\" class=\"node\"><title>data</title>\n",
       "<ellipse fill=\"#8dd3c7\" stroke=\"black\" cx=\"150\" cy=\"-29\" rx=\"47\" ry=\"29\"/>\n",
       "<text text-anchor=\"middle\" x=\"150\" y=\"-25.3\" font-family=\"Times,serif\" font-size=\"14.00\">data</text>\n",
       "</g>\n",
       "<!-- residualblock0_conv0_fwd -->\n",
       "<g id=\"node2\" class=\"node\"><title>residualblock0_conv0_fwd</title>\n",
       "<polygon fill=\"#fb8072\" stroke=\"black\" points=\"155,-152 61,-152 61,-94 155,-94 155,-152\"/>\n",
       "<text text-anchor=\"middle\" x=\"108\" y=\"-126.8\" font-family=\"Times,serif\" font-size=\"14.00\">Convolution</text>\n",
       "<text text-anchor=\"middle\" x=\"108\" y=\"-111.8\" font-family=\"Times,serif\" font-size=\"14.00\">3x3/1x1, 64</text>\n",
       "</g>\n",
       "<!-- residualblock0_conv0_fwd&#45;&gt;data -->\n",
       "<g id=\"edge1\" class=\"edge\"><title>residualblock0_conv0_fwd&#45;&gt;data</title>\n",
       "<path fill=\"none\" stroke=\"black\" d=\"M125.07,-84.6086C129.241,-75.4714 133.627,-65.8643 137.537,-57.2995\"/>\n",
       "<polygon fill=\"black\" stroke=\"black\" points=\"120.83,-93.8971 120.889,-82.9313 122.906,-89.3486 124.983,-84.8002 124.983,-84.8002 124.983,-84.8002 122.906,-89.3486 129.076,-86.669 120.83,-93.8971 120.83,-93.8971\"/>\n",
       "</g>\n",
       "<!-- residualblock0_conv0_relu_fwd -->\n",
       "<g id=\"node3\" class=\"node\"><title>residualblock0_conv0_relu_fwd</title>\n",
       "<polygon fill=\"#ffffb3\" stroke=\"black\" points=\"150,-246 56,-246 56,-188 150,-188 150,-246\"/>\n",
       "<text text-anchor=\"middle\" x=\"103\" y=\"-220.8\" font-family=\"Times,serif\" font-size=\"14.00\">Activation</text>\n",
       "<text text-anchor=\"middle\" x=\"103\" y=\"-205.8\" font-family=\"Times,serif\" font-size=\"14.00\">relu</text>\n",
       "</g>\n",
       "<!-- residualblock0_conv0_relu_fwd&#45;&gt;residualblock0_conv0_fwd -->\n",
       "<g id=\"edge2\" class=\"edge\"><title>residualblock0_conv0_relu_fwd&#45;&gt;residualblock0_conv0_fwd</title>\n",
       "<path fill=\"none\" stroke=\"black\" d=\"M105.079,-177.744C105.543,-169.204 106.027,-160.298 106.465,-152.248\"/>\n",
       "<polygon fill=\"black\" stroke=\"black\" points=\"104.527,-187.897 100.577,-177.668 104.799,-182.904 105.07,-177.912 105.07,-177.912 105.07,-177.912 104.799,-182.904 109.563,-178.156 104.527,-187.897 104.527,-187.897\"/>\n",
       "</g>\n",
       "<!-- residualblock0_conv1_fwd -->\n",
       "<g id=\"node4\" class=\"node\"><title>residualblock0_conv1_fwd</title>\n",
       "<polygon fill=\"#fb8072\" stroke=\"black\" points=\"132,-340 38,-340 38,-282 132,-282 132,-340\"/>\n",
       "<text text-anchor=\"middle\" x=\"85\" y=\"-314.8\" font-family=\"Times,serif\" font-size=\"14.00\">Convolution</text>\n",
       "<text text-anchor=\"middle\" x=\"85\" y=\"-299.8\" font-family=\"Times,serif\" font-size=\"14.00\">3x3/2x2, 64</text>\n",
       "</g>\n",
       "<!-- residualblock0_conv1_fwd&#45;&gt;residualblock0_conv0_relu_fwd -->\n",
       "<g id=\"edge3\" class=\"edge\"><title>residualblock0_conv1_fwd&#45;&gt;residualblock0_conv0_relu_fwd</title>\n",
       "<path fill=\"none\" stroke=\"black\" d=\"M92.4298,-272.026C94.1174,-263.4 95.881,-254.386 97.4732,-246.248\"/>\n",
       "<polygon fill=\"black\" stroke=\"black\" points=\"90.4984,-281.897 88.0023,-271.219 91.4585,-276.99 92.4186,-272.083 92.4186,-272.083 92.4186,-272.083 91.4585,-276.99 96.8349,-272.947 90.4984,-281.897 90.4984,-281.897\"/>\n",
       "</g>\n",
       "<!-- residualblock0_conv1_relu_fwd -->\n",
       "<g id=\"node5\" class=\"node\"><title>residualblock0_conv1_relu_fwd</title>\n",
       "<polygon fill=\"#ffffb3\" stroke=\"black\" points=\"141,-434 47,-434 47,-376 141,-376 141,-434\"/>\n",
       "<text text-anchor=\"middle\" x=\"94\" y=\"-408.8\" font-family=\"Times,serif\" font-size=\"14.00\">Activation</text>\n",
       "<text text-anchor=\"middle\" x=\"94\" y=\"-393.8\" font-family=\"Times,serif\" font-size=\"14.00\">relu</text>\n",
       "</g>\n",
       "<!-- residualblock0_conv1_relu_fwd&#45;&gt;residualblock0_conv1_fwd -->\n",
       "<g id=\"edge4\" class=\"edge\"><title>residualblock0_conv1_relu_fwd&#45;&gt;residualblock0_conv1_fwd</title>\n",
       "<path fill=\"none\" stroke=\"black\" d=\"M90.2576,-365.744C89.4222,-357.204 88.5509,-348.298 87.7634,-340.248\"/>\n",
       "<polygon fill=\"black\" stroke=\"black\" points=\"91.2508,-375.897 85.7985,-366.383 90.7639,-370.921 90.2771,-365.945 90.2771,-365.945 90.2771,-365.945 90.7639,-370.921 94.7557,-365.506 91.2508,-375.897 91.2508,-375.897\"/>\n",
       "</g>\n",
       "<!-- residualblock0_conv2_fwd -->\n",
       "<g id=\"node6\" class=\"node\"><title>residualblock0_conv2_fwd</title>\n",
       "<polygon fill=\"#fb8072\" stroke=\"black\" points=\"244,-340 150,-340 150,-282 244,-282 244,-340\"/>\n",
       "<text text-anchor=\"middle\" x=\"197\" y=\"-314.8\" font-family=\"Times,serif\" font-size=\"14.00\">Convolution</text>\n",
       "<text text-anchor=\"middle\" x=\"197\" y=\"-299.8\" font-family=\"Times,serif\" font-size=\"14.00\">1x1/2x2, 64</text>\n",
       "</g>\n",
       "<!-- residualblock0_conv2_fwd&#45;&gt;data -->\n",
       "<g id=\"edge5\" class=\"edge\"><title>residualblock0_conv2_fwd&#45;&gt;data</title>\n",
       "<path fill=\"none\" stroke=\"black\" d=\"M191.923,-271.864C185.991,-228.608 175.51,-156.023 164,-94 161.8,-82.1461 159.022,-69.136 156.521,-57.9596\"/>\n",
       "<polygon fill=\"black\" stroke=\"black\" points=\"193.296,-281.943 187.487,-272.642 192.621,-276.989 191.946,-272.035 191.946,-272.035 191.946,-272.035 192.621,-276.989 196.405,-271.427 193.296,-281.943 193.296,-281.943\"/>\n",
       "</g>\n",
       "<!-- residualblock0_add_n0 -->\n",
       "<g id=\"node7\" class=\"node\"><title>residualblock0_add_n0</title>\n",
       "<polygon fill=\"#fccde5\" stroke=\"black\" points=\"178,-528 84,-528 84,-470 178,-470 178,-528\"/>\n",
       "<text text-anchor=\"middle\" x=\"131\" y=\"-495.3\" font-family=\"Times,serif\" font-size=\"14.00\">residualblock0_add_n0</text>\n",
       "</g>\n",
       "<!-- residualblock0_add_n0&#45;&gt;residualblock0_conv1_relu_fwd -->\n",
       "<g id=\"edge6\" class=\"edge\"><title>residualblock0_add_n0&#45;&gt;residualblock0_conv1_relu_fwd</title>\n",
       "<path fill=\"none\" stroke=\"black\" d=\"M115.954,-460.588C112.417,-451.793 108.705,-442.563 105.361,-434.248\"/>\n",
       "<polygon fill=\"black\" stroke=\"black\" points=\"119.698,-469.897 111.791,-462.298 117.832,-465.258 115.966,-460.619 115.966,-460.619 115.966,-460.619 117.832,-465.258 120.141,-458.94 119.698,-469.897 119.698,-469.897\"/>\n",
       "</g>\n",
       "<!-- residualblock0_add_n0&#45;&gt;residualblock0_conv2_fwd -->\n",
       "<g id=\"edge7\" class=\"edge\"><title>residualblock0_add_n0&#45;&gt;residualblock0_conv2_fwd</title>\n",
       "<path fill=\"none\" stroke=\"black\" d=\"M144.412,-460.202C157.026,-424.654 175.624,-372.241 186.99,-340.21\"/>\n",
       "<polygon fill=\"black\" stroke=\"black\" points=\"141.024,-469.751 140.127,-458.821 142.696,-465.038 144.368,-460.326 144.368,-460.326 144.368,-460.326 142.696,-465.038 148.609,-461.831 141.024,-469.751 141.024,-469.751\"/>\n",
       "</g>\n",
       "<!-- residualblock1_conv0_fwd -->\n",
       "<g id=\"node8\" class=\"node\"><title>residualblock1_conv0_fwd</title>\n",
       "<polygon fill=\"#fb8072\" stroke=\"black\" points=\"136,-622 42,-622 42,-564 136,-564 136,-622\"/>\n",
       "<text text-anchor=\"middle\" x=\"89\" y=\"-596.8\" font-family=\"Times,serif\" font-size=\"14.00\">Convolution</text>\n",
       "<text text-anchor=\"middle\" x=\"89\" y=\"-581.8\" font-family=\"Times,serif\" font-size=\"14.00\">3x3/1x1, 128</text>\n",
       "</g>\n",
       "<!-- residualblock1_conv0_fwd&#45;&gt;residualblock0_add_n0 -->\n",
       "<g id=\"edge8\" class=\"edge\"><title>residualblock1_conv0_fwd&#45;&gt;residualblock0_add_n0</title>\n",
       "<path fill=\"none\" stroke=\"black\" d=\"M106.08,-554.588C110.095,-545.793 114.308,-536.563 118.104,-528.248\"/>\n",
       "<polygon fill=\"black\" stroke=\"black\" points=\"101.83,-563.897 101.889,-552.931 103.906,-559.349 105.983,-554.8 105.983,-554.8 105.983,-554.8 103.906,-559.349 110.076,-556.669 101.83,-563.897 101.83,-563.897\"/>\n",
       "</g>\n",
       "<!-- residualblock1_conv0_relu_fwd -->\n",
       "<g id=\"node9\" class=\"node\"><title>residualblock1_conv0_relu_fwd</title>\n",
       "<polygon fill=\"#ffffb3\" stroke=\"black\" points=\"131,-716 37,-716 37,-658 131,-658 131,-716\"/>\n",
       "<text text-anchor=\"middle\" x=\"84\" y=\"-690.8\" font-family=\"Times,serif\" font-size=\"14.00\">Activation</text>\n",
       "<text text-anchor=\"middle\" x=\"84\" y=\"-675.8\" font-family=\"Times,serif\" font-size=\"14.00\">relu</text>\n",
       "</g>\n",
       "<!-- residualblock1_conv0_relu_fwd&#45;&gt;residualblock1_conv0_fwd -->\n",
       "<g id=\"edge9\" class=\"edge\"><title>residualblock1_conv0_relu_fwd&#45;&gt;residualblock1_conv0_fwd</title>\n",
       "<path fill=\"none\" stroke=\"black\" d=\"M86.0791,-647.744C86.5432,-639.204 87.0273,-630.298 87.4648,-622.248\"/>\n",
       "<polygon fill=\"black\" stroke=\"black\" points=\"85.5273,-657.897 81.5767,-647.668 85.7987,-652.904 86.0701,-647.912 86.0701,-647.912 86.0701,-647.912 85.7987,-652.904 90.5635,-648.156 85.5273,-657.897 85.5273,-657.897\"/>\n",
       "</g>\n",
       "<!-- residualblock1_conv1_fwd -->\n",
       "<g id=\"node10\" class=\"node\"><title>residualblock1_conv1_fwd</title>\n",
       "<polygon fill=\"#fb8072\" stroke=\"black\" points=\"113,-810 19,-810 19,-752 113,-752 113,-810\"/>\n",
       "<text text-anchor=\"middle\" x=\"66\" y=\"-784.8\" font-family=\"Times,serif\" font-size=\"14.00\">Convolution</text>\n",
       "<text text-anchor=\"middle\" x=\"66\" y=\"-769.8\" font-family=\"Times,serif\" font-size=\"14.00\">3x3/2x2, 128</text>\n",
       "</g>\n",
       "<!-- residualblock1_conv1_fwd&#45;&gt;residualblock1_conv0_relu_fwd -->\n",
       "<g id=\"edge10\" class=\"edge\"><title>residualblock1_conv1_fwd&#45;&gt;residualblock1_conv0_relu_fwd</title>\n",
       "<path fill=\"none\" stroke=\"black\" d=\"M73.4298,-742.026C75.1174,-733.4 76.881,-724.386 78.4732,-716.248\"/>\n",
       "<polygon fill=\"black\" stroke=\"black\" points=\"71.4984,-751.897 69.0023,-741.219 72.4585,-746.99 73.4186,-742.083 73.4186,-742.083 73.4186,-742.083 72.4585,-746.99 77.8349,-742.947 71.4984,-751.897 71.4984,-751.897\"/>\n",
       "</g>\n",
       "<!-- residualblock1_conv1_relu_fwd -->\n",
       "<g id=\"node11\" class=\"node\"><title>residualblock1_conv1_relu_fwd</title>\n",
       "<polygon fill=\"#ffffb3\" stroke=\"black\" points=\"122,-904 28,-904 28,-846 122,-846 122,-904\"/>\n",
       "<text text-anchor=\"middle\" x=\"75\" y=\"-878.8\" font-family=\"Times,serif\" font-size=\"14.00\">Activation</text>\n",
       "<text text-anchor=\"middle\" x=\"75\" y=\"-863.8\" font-family=\"Times,serif\" font-size=\"14.00\">relu</text>\n",
       "</g>\n",
       "<!-- residualblock1_conv1_relu_fwd&#45;&gt;residualblock1_conv1_fwd -->\n",
       "<g id=\"edge11\" class=\"edge\"><title>residualblock1_conv1_relu_fwd&#45;&gt;residualblock1_conv1_fwd</title>\n",
       "<path fill=\"none\" stroke=\"black\" d=\"M71.2576,-835.744C70.4222,-827.204 69.5509,-818.298 68.7634,-810.248\"/>\n",
       "<polygon fill=\"black\" stroke=\"black\" points=\"72.2508,-845.897 66.7985,-836.383 71.7639,-840.921 71.2771,-835.945 71.2771,-835.945 71.2771,-835.945 71.7639,-840.921 75.7557,-835.506 72.2508,-845.897 72.2508,-845.897\"/>\n",
       "</g>\n",
       "<!-- residualblock1_conv2_fwd -->\n",
       "<g id=\"node12\" class=\"node\"><title>residualblock1_conv2_fwd</title>\n",
       "<polygon fill=\"#fb8072\" stroke=\"black\" points=\"225,-810 131,-810 131,-752 225,-752 225,-810\"/>\n",
       "<text text-anchor=\"middle\" x=\"178\" y=\"-784.8\" font-family=\"Times,serif\" font-size=\"14.00\">Convolution</text>\n",
       "<text text-anchor=\"middle\" x=\"178\" y=\"-769.8\" font-family=\"Times,serif\" font-size=\"14.00\">1x1/2x2, 128</text>\n",
       "</g>\n",
       "<!-- residualblock1_conv2_fwd&#45;&gt;residualblock0_add_n0 -->\n",
       "<g id=\"edge12\" class=\"edge\"><title>residualblock1_conv2_fwd&#45;&gt;residualblock0_add_n0</title>\n",
       "<path fill=\"none\" stroke=\"black\" d=\"M172.923,-741.864C166.991,-698.608 156.51,-626.023 145,-564 142.821,-552.258 140.074,-539.381 137.592,-528.276\"/>\n",
       "<polygon fill=\"black\" stroke=\"black\" points=\"174.296,-751.943 168.487,-742.642 173.621,-746.989 172.946,-742.035 172.946,-742.035 172.946,-742.035 173.621,-746.989 177.405,-741.427 174.296,-751.943 174.296,-751.943\"/>\n",
       "</g>\n",
       "<!-- residualblock1_add_n0 -->\n",
       "<g id=\"node13\" class=\"node\"><title>residualblock1_add_n0</title>\n",
       "<polygon fill=\"#fccde5\" stroke=\"black\" points=\"159,-998 65,-998 65,-940 159,-940 159,-998\"/>\n",
       "<text text-anchor=\"middle\" x=\"112\" y=\"-965.3\" font-family=\"Times,serif\" font-size=\"14.00\">residualblock1_add_n0</text>\n",
       "</g>\n",
       "<!-- residualblock1_add_n0&#45;&gt;residualblock1_conv1_relu_fwd -->\n",
       "<g id=\"edge13\" class=\"edge\"><title>residualblock1_add_n0&#45;&gt;residualblock1_conv1_relu_fwd</title>\n",
       "<path fill=\"none\" stroke=\"black\" d=\"M96.9537,-930.588C93.4166,-921.793 89.7047,-912.563 86.3605,-904.248\"/>\n",
       "<polygon fill=\"black\" stroke=\"black\" points=\"100.698,-939.897 92.7914,-932.298 98.8321,-935.258 96.9664,-930.619 96.9664,-930.619 96.9664,-930.619 98.8321,-935.258 101.141,-928.94 100.698,-939.897 100.698,-939.897\"/>\n",
       "</g>\n",
       "<!-- residualblock1_add_n0&#45;&gt;residualblock1_conv2_fwd -->\n",
       "<g id=\"edge14\" class=\"edge\"><title>residualblock1_add_n0&#45;&gt;residualblock1_conv2_fwd</title>\n",
       "<path fill=\"none\" stroke=\"black\" d=\"M125.412,-930.202C138.026,-894.654 156.624,-842.241 167.99,-810.21\"/>\n",
       "<polygon fill=\"black\" stroke=\"black\" points=\"122.024,-939.751 121.127,-928.821 123.696,-935.038 125.368,-930.326 125.368,-930.326 125.368,-930.326 123.696,-935.038 129.609,-931.831 122.024,-939.751 122.024,-939.751\"/>\n",
       "</g>\n",
       "<!-- residualblock2_conv0_fwd -->\n",
       "<g id=\"node14\" class=\"node\"><title>residualblock2_conv0_fwd</title>\n",
       "<polygon fill=\"#fb8072\" stroke=\"black\" points=\"117,-1092 23,-1092 23,-1034 117,-1034 117,-1092\"/>\n",
       "<text text-anchor=\"middle\" x=\"70\" y=\"-1066.8\" font-family=\"Times,serif\" font-size=\"14.00\">Convolution</text>\n",
       "<text text-anchor=\"middle\" x=\"70\" y=\"-1051.8\" font-family=\"Times,serif\" font-size=\"14.00\">3x3/1x1, 256</text>\n",
       "</g>\n",
       "<!-- residualblock2_conv0_fwd&#45;&gt;residualblock1_add_n0 -->\n",
       "<g id=\"edge15\" class=\"edge\"><title>residualblock2_conv0_fwd&#45;&gt;residualblock1_add_n0</title>\n",
       "<path fill=\"none\" stroke=\"black\" d=\"M87.0795,-1024.59C91.0947,-1015.79 95.3081,-1006.56 99.1042,-998.248\"/>\n",
       "<polygon fill=\"black\" stroke=\"black\" points=\"82.8296,-1033.9 82.889,-1022.93 84.9061,-1029.35 86.9826,-1024.8 86.9826,-1024.8 86.9826,-1024.8 84.9061,-1029.35 91.0762,-1026.67 82.8296,-1033.9 82.8296,-1033.9\"/>\n",
       "</g>\n",
       "<!-- residualblock2_conv0_relu_fwd -->\n",
       "<g id=\"node15\" class=\"node\"><title>residualblock2_conv0_relu_fwd</title>\n",
       "<polygon fill=\"#ffffb3\" stroke=\"black\" points=\"112,-1186 18,-1186 18,-1128 112,-1128 112,-1186\"/>\n",
       "<text text-anchor=\"middle\" x=\"65\" y=\"-1160.8\" font-family=\"Times,serif\" font-size=\"14.00\">Activation</text>\n",
       "<text text-anchor=\"middle\" x=\"65\" y=\"-1145.8\" font-family=\"Times,serif\" font-size=\"14.00\">relu</text>\n",
       "</g>\n",
       "<!-- residualblock2_conv0_relu_fwd&#45;&gt;residualblock2_conv0_fwd -->\n",
       "<g id=\"edge16\" class=\"edge\"><title>residualblock2_conv0_relu_fwd&#45;&gt;residualblock2_conv0_fwd</title>\n",
       "<path fill=\"none\" stroke=\"black\" d=\"M67.0791,-1117.74C67.5432,-1109.2 68.0273,-1100.3 68.4648,-1092.25\"/>\n",
       "<polygon fill=\"black\" stroke=\"black\" points=\"66.5273,-1127.9 62.5767,-1117.67 66.7987,-1122.9 67.0701,-1117.91 67.0701,-1117.91 67.0701,-1117.91 66.7987,-1122.9 71.5635,-1118.16 66.5273,-1127.9 66.5273,-1127.9\"/>\n",
       "</g>\n",
       "<!-- residualblock2_conv1_fwd -->\n",
       "<g id=\"node16\" class=\"node\"><title>residualblock2_conv1_fwd</title>\n",
       "<polygon fill=\"#fb8072\" stroke=\"black\" points=\"94,-1280 -7.10543e-15,-1280 -7.10543e-15,-1222 94,-1222 94,-1280\"/>\n",
       "<text text-anchor=\"middle\" x=\"47\" y=\"-1254.8\" font-family=\"Times,serif\" font-size=\"14.00\">Convolution</text>\n",
       "<text text-anchor=\"middle\" x=\"47\" y=\"-1239.8\" font-family=\"Times,serif\" font-size=\"14.00\">3x3/2x2, 256</text>\n",
       "</g>\n",
       "<!-- residualblock2_conv1_fwd&#45;&gt;residualblock2_conv0_relu_fwd -->\n",
       "<g id=\"edge17\" class=\"edge\"><title>residualblock2_conv1_fwd&#45;&gt;residualblock2_conv0_relu_fwd</title>\n",
       "<path fill=\"none\" stroke=\"black\" d=\"M54.4298,-1212.03C56.1174,-1203.4 57.881,-1194.39 59.4732,-1186.25\"/>\n",
       "<polygon fill=\"black\" stroke=\"black\" points=\"52.4984,-1221.9 50.0023,-1211.22 53.4585,-1216.99 54.4186,-1212.08 54.4186,-1212.08 54.4186,-1212.08 53.4585,-1216.99 58.8349,-1212.95 52.4984,-1221.9 52.4984,-1221.9\"/>\n",
       "</g>\n",
       "<!-- residualblock2_conv1_relu_fwd -->\n",
       "<g id=\"node17\" class=\"node\"><title>residualblock2_conv1_relu_fwd</title>\n",
       "<polygon fill=\"#ffffb3\" stroke=\"black\" points=\"103,-1374 9,-1374 9,-1316 103,-1316 103,-1374\"/>\n",
       "<text text-anchor=\"middle\" x=\"56\" y=\"-1348.8\" font-family=\"Times,serif\" font-size=\"14.00\">Activation</text>\n",
       "<text text-anchor=\"middle\" x=\"56\" y=\"-1333.8\" font-family=\"Times,serif\" font-size=\"14.00\">relu</text>\n",
       "</g>\n",
       "<!-- residualblock2_conv1_relu_fwd&#45;&gt;residualblock2_conv1_fwd -->\n",
       "<g id=\"edge18\" class=\"edge\"><title>residualblock2_conv1_relu_fwd&#45;&gt;residualblock2_conv1_fwd</title>\n",
       "<path fill=\"none\" stroke=\"black\" d=\"M52.2576,-1305.74C51.4222,-1297.2 50.5509,-1288.3 49.7634,-1280.25\"/>\n",
       "<polygon fill=\"black\" stroke=\"black\" points=\"53.2508,-1315.9 47.7985,-1306.38 52.7639,-1310.92 52.2771,-1305.94 52.2771,-1305.94 52.2771,-1305.94 52.7639,-1310.92 56.7557,-1305.51 53.2508,-1315.9 53.2508,-1315.9\"/>\n",
       "</g>\n",
       "<!-- residualblock2_conv2_fwd -->\n",
       "<g id=\"node18\" class=\"node\"><title>residualblock2_conv2_fwd</title>\n",
       "<polygon fill=\"#fb8072\" stroke=\"black\" points=\"206,-1280 112,-1280 112,-1222 206,-1222 206,-1280\"/>\n",
       "<text text-anchor=\"middle\" x=\"159\" y=\"-1254.8\" font-family=\"Times,serif\" font-size=\"14.00\">Convolution</text>\n",
       "<text text-anchor=\"middle\" x=\"159\" y=\"-1239.8\" font-family=\"Times,serif\" font-size=\"14.00\">1x1/2x2, 256</text>\n",
       "</g>\n",
       "<!-- residualblock2_conv2_fwd&#45;&gt;residualblock1_add_n0 -->\n",
       "<g id=\"edge19\" class=\"edge\"><title>residualblock2_conv2_fwd&#45;&gt;residualblock1_add_n0</title>\n",
       "<path fill=\"none\" stroke=\"black\" d=\"M153.923,-1211.86C147.991,-1168.61 137.51,-1096.02 126,-1034 123.821,-1022.26 121.074,-1009.38 118.592,-998.276\"/>\n",
       "<polygon fill=\"black\" stroke=\"black\" points=\"155.296,-1221.94 149.487,-1212.64 154.621,-1216.99 153.946,-1212.03 153.946,-1212.03 153.946,-1212.03 154.621,-1216.99 158.405,-1211.43 155.296,-1221.94 155.296,-1221.94\"/>\n",
       "</g>\n",
       "<!-- residualblock2_add_n0 -->\n",
       "<g id=\"node19\" class=\"node\"><title>residualblock2_add_n0</title>\n",
       "<polygon fill=\"#fccde5\" stroke=\"black\" points=\"140,-1468 46,-1468 46,-1410 140,-1410 140,-1468\"/>\n",
       "<text text-anchor=\"middle\" x=\"93\" y=\"-1435.3\" font-family=\"Times,serif\" font-size=\"14.00\">residualblock2_add_n0</text>\n",
       "</g>\n",
       "<!-- residualblock2_add_n0&#45;&gt;residualblock2_conv1_relu_fwd -->\n",
       "<g id=\"edge20\" class=\"edge\"><title>residualblock2_add_n0&#45;&gt;residualblock2_conv1_relu_fwd</title>\n",
       "<path fill=\"none\" stroke=\"black\" d=\"M77.9537,-1400.59C74.4166,-1391.79 70.7047,-1382.56 67.3605,-1374.25\"/>\n",
       "<polygon fill=\"black\" stroke=\"black\" points=\"81.6977,-1409.9 73.7914,-1402.3 79.8321,-1405.26 77.9664,-1400.62 77.9664,-1400.62 77.9664,-1400.62 79.8321,-1405.26 82.1414,-1398.94 81.6977,-1409.9 81.6977,-1409.9\"/>\n",
       "</g>\n",
       "<!-- residualblock2_add_n0&#45;&gt;residualblock2_conv2_fwd -->\n",
       "<g id=\"edge21\" class=\"edge\"><title>residualblock2_add_n0&#45;&gt;residualblock2_conv2_fwd</title>\n",
       "<path fill=\"none\" stroke=\"black\" d=\"M106.412,-1400.2C119.026,-1364.65 137.624,-1312.24 148.99,-1280.21\"/>\n",
       "<polygon fill=\"black\" stroke=\"black\" points=\"103.024,-1409.75 102.127,-1398.82 104.696,-1405.04 106.368,-1400.33 106.368,-1400.33 106.368,-1400.33 104.696,-1405.04 110.609,-1401.83 103.024,-1409.75 103.024,-1409.75\"/>\n",
       "</g>\n",
       "<!-- flatten0_reshape0 -->\n",
       "<g id=\"node20\" class=\"node\"><title>flatten0_reshape0</title>\n",
       "<polygon fill=\"#fdb462\" stroke=\"black\" points=\"140,-1562 46,-1562 46,-1504 140,-1504 140,-1562\"/>\n",
       "<text text-anchor=\"middle\" x=\"93\" y=\"-1529.3\" font-family=\"Times,serif\" font-size=\"14.00\">flatten0_reshape0</text>\n",
       "</g>\n",
       "<!-- flatten0_reshape0&#45;&gt;residualblock2_add_n0 -->\n",
       "<g id=\"edge22\" class=\"edge\"><title>flatten0_reshape0&#45;&gt;residualblock2_add_n0</title>\n",
       "<path fill=\"none\" stroke=\"black\" d=\"M93,-1493.74C93,-1485.2 93,-1476.3 93,-1468.25\"/>\n",
       "<polygon fill=\"black\" stroke=\"black\" points=\"93,-1503.9 88.5001,-1493.9 93,-1498.9 93.0001,-1493.9 93.0001,-1493.9 93.0001,-1493.9 93,-1498.9 97.5001,-1493.9 93,-1503.9 93,-1503.9\"/>\n",
       "</g>\n",
       "<!-- dense0_fwd -->\n",
       "<g id=\"node21\" class=\"node\"><title>dense0_fwd</title>\n",
       "<polygon fill=\"#fb8072\" stroke=\"black\" points=\"140,-1656 46,-1656 46,-1598 140,-1598 140,-1656\"/>\n",
       "<text text-anchor=\"middle\" x=\"93\" y=\"-1630.8\" font-family=\"Times,serif\" font-size=\"14.00\">FullyConnected</text>\n",
       "<text text-anchor=\"middle\" x=\"93\" y=\"-1615.8\" font-family=\"Times,serif\" font-size=\"14.00\">256</text>\n",
       "</g>\n",
       "<!-- dense0_fwd&#45;&gt;flatten0_reshape0 -->\n",
       "<g id=\"edge23\" class=\"edge\"><title>dense0_fwd&#45;&gt;flatten0_reshape0</title>\n",
       "<path fill=\"none\" stroke=\"black\" d=\"M93,-1587.74C93,-1579.2 93,-1570.3 93,-1562.25\"/>\n",
       "<polygon fill=\"black\" stroke=\"black\" points=\"93,-1597.9 88.5001,-1587.9 93,-1592.9 93.0001,-1587.9 93.0001,-1587.9 93.0001,-1587.9 93,-1592.9 97.5001,-1587.9 93,-1597.9 93,-1597.9\"/>\n",
       "</g>\n",
       "<!-- dense0_relu_fwd -->\n",
       "<g id=\"node22\" class=\"node\"><title>dense0_relu_fwd</title>\n",
       "<polygon fill=\"#ffffb3\" stroke=\"black\" points=\"140,-1750 46,-1750 46,-1692 140,-1692 140,-1750\"/>\n",
       "<text text-anchor=\"middle\" x=\"93\" y=\"-1724.8\" font-family=\"Times,serif\" font-size=\"14.00\">Activation</text>\n",
       "<text text-anchor=\"middle\" x=\"93\" y=\"-1709.8\" font-family=\"Times,serif\" font-size=\"14.00\">relu</text>\n",
       "</g>\n",
       "<!-- dense0_relu_fwd&#45;&gt;dense0_fwd -->\n",
       "<g id=\"edge24\" class=\"edge\"><title>dense0_relu_fwd&#45;&gt;dense0_fwd</title>\n",
       "<path fill=\"none\" stroke=\"black\" d=\"M93,-1681.74C93,-1673.2 93,-1664.3 93,-1656.25\"/>\n",
       "<polygon fill=\"black\" stroke=\"black\" points=\"93,-1691.9 88.5001,-1681.9 93,-1686.9 93.0001,-1681.9 93.0001,-1681.9 93.0001,-1681.9 93,-1686.9 97.5001,-1681.9 93,-1691.9 93,-1691.9\"/>\n",
       "</g>\n",
       "<!-- dropout0_fwd -->\n",
       "<g id=\"node23\" class=\"node\"><title>dropout0_fwd</title>\n",
       "<polygon fill=\"#fccde5\" stroke=\"black\" points=\"140,-1844 46,-1844 46,-1786 140,-1786 140,-1844\"/>\n",
       "<text text-anchor=\"middle\" x=\"93\" y=\"-1811.3\" font-family=\"Times,serif\" font-size=\"14.00\">dropout0_fwd</text>\n",
       "</g>\n",
       "<!-- dropout0_fwd&#45;&gt;dense0_relu_fwd -->\n",
       "<g id=\"edge25\" class=\"edge\"><title>dropout0_fwd&#45;&gt;dense0_relu_fwd</title>\n",
       "<path fill=\"none\" stroke=\"black\" d=\"M93,-1775.74C93,-1767.2 93,-1758.3 93,-1750.25\"/>\n",
       "<polygon fill=\"black\" stroke=\"black\" points=\"93,-1785.9 88.5001,-1775.9 93,-1780.9 93.0001,-1775.9 93.0001,-1775.9 93.0001,-1775.9 93,-1780.9 97.5001,-1775.9 93,-1785.9 93,-1785.9\"/>\n",
       "</g>\n",
       "<!-- dense1_fwd -->\n",
       "<g id=\"node24\" class=\"node\"><title>dense1_fwd</title>\n",
       "<polygon fill=\"#fb8072\" stroke=\"black\" points=\"140,-1938 46,-1938 46,-1880 140,-1880 140,-1938\"/>\n",
       "<text text-anchor=\"middle\" x=\"93\" y=\"-1912.8\" font-family=\"Times,serif\" font-size=\"14.00\">FullyConnected</text>\n",
       "<text text-anchor=\"middle\" x=\"93\" y=\"-1897.8\" font-family=\"Times,serif\" font-size=\"14.00\">10</text>\n",
       "</g>\n",
       "<!-- dense1_fwd&#45;&gt;dropout0_fwd -->\n",
       "<g id=\"edge26\" class=\"edge\"><title>dense1_fwd&#45;&gt;dropout0_fwd</title>\n",
       "<path fill=\"none\" stroke=\"black\" d=\"M93,-1869.74C93,-1861.2 93,-1852.3 93,-1844.25\"/>\n",
       "<polygon fill=\"black\" stroke=\"black\" points=\"93,-1879.9 88.5001,-1869.9 93,-1874.9 93.0001,-1869.9 93.0001,-1869.9 93.0001,-1869.9 93,-1874.9 97.5001,-1869.9 93,-1879.9 93,-1879.9\"/>\n",
       "</g>\n",
       "</g>\n",
       "</svg>\n"
      ],
      "text/plain": [
       "<graphviz.dot.Digraph at 0x7fcdb4e4aa58>"
      ]
     },
     "execution_count": 10,
     "metadata": {},
     "output_type": "execute_result"
    }
   ],
   "source": [
    "mx.viz.plot_network(sym)"
   ]
  },
  {
   "cell_type": "code",
   "execution_count": null,
   "metadata": {
    "collapsed": true
   },
   "outputs": [],
   "source": []
  }
 ],
 "metadata": {
  "kernelspec": {
   "display_name": "Python 3",
   "language": "python",
   "name": "python3"
  },
  "language_info": {
   "codemirror_mode": {
    "name": "ipython",
    "version": 3
   },
   "file_extension": ".py",
   "mimetype": "text/x-python",
   "name": "python",
   "nbconvert_exporter": "python",
   "pygments_lexer": "ipython3",
   "version": "3.5.2"
  }
 },
 "nbformat": 4,
 "nbformat_minor": 2
}
